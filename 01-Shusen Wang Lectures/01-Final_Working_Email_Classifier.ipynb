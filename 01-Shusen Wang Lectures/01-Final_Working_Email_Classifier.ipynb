{
  "nbformat": 4,
  "nbformat_minor": 0,
  "metadata": {
    "colab": {
      "name": "Final-Working-Email-Classifier.ipynb",
      "provenance": [],
      "collapsed_sections": []
    },
    "kernelspec": {
      "name": "python3",
      "display_name": "Python 3"
    },
    "language_info": {
      "name": "python"
    }
  },
  "cells": [
    {
      "cell_type": "markdown",
      "source": [
        "#### 1. Import the lib's"
      ],
      "metadata": {
        "id": "5dwWnrMCsyfh"
      }
    },
    {
      "cell_type": "code",
      "execution_count": 1,
      "metadata": {
        "id": "xXfXTSop3tCk"
      },
      "outputs": [],
      "source": [
        "import pandas as pd\n",
        "import numpy as np\n",
        "from random import seed\n",
        "from random import sample\n",
        "from sklearn.model_selection import train_test_split\n",
        "import matplotlib.pyplot as plt\n",
        "import gensim.downloader as api\n",
        "from gensim.models.keyedvectors import Word2VecKeyedVectors\n",
        "from sklearn.decomposition import PCA\n",
        "from sklearn.metrics import accuracy_score\n",
        "from scipy import spatial\n",
        "from nltk.corpus import stopwords"
      ]
    },
    {
      "cell_type": "markdown",
      "source": [
        "#### 2. Set the seed value"
      ],
      "metadata": {
        "id": "vBB_xVH6s5GW"
      }
    },
    {
      "cell_type": "code",
      "source": [
        "seed(42)\n",
        "np.random.seed(42)\n"
      ],
      "metadata": {
        "id": "NoiYJPOGsJeK"
      },
      "execution_count": 2,
      "outputs": []
    },
    {
      "cell_type": "markdown",
      "source": [
        "#### 3. Loading the word2Vec model"
      ],
      "metadata": {
        "id": "AY7eTBbDcBUI"
      }
    },
    {
      "cell_type": "code",
      "source": [
        "model2 = api.load('word2vec-google-news-300')"
      ],
      "metadata": {
        "colab": {
          "base_uri": "https://localhost:8080/"
        },
        "id": "vXuEQA4bsJhE",
        "outputId": "7f5edf74-b7b6-421c-cd93-df7fb20b5d30"
      },
      "execution_count": 3,
      "outputs": [
        {
          "output_type": "stream",
          "name": "stdout",
          "text": [
            "[==================================================] 100.0% 1662.8/1662.8MB downloaded\n"
          ]
        }
      ]
    },
    {
      "cell_type": "code",
      "source": [
        "model2"
      ],
      "metadata": {
        "colab": {
          "base_uri": "https://localhost:8080/"
        },
        "id": "tG12b63xxFv9",
        "outputId": "026e822f-cb92-4579-8eb2-3bd03b122cef"
      },
      "execution_count": null,
      "outputs": [
        {
          "output_type": "execute_result",
          "data": {
            "text/plain": [
              "<gensim.models.keyedvectors.Word2VecKeyedVectors at 0x7f203cc02890>"
            ]
          },
          "metadata": {},
          "execution_count": 5
        }
      ]
    },
    {
      "cell_type": "markdown",
      "source": [
        "#### 4. Dataframe loading from the json"
      ],
      "metadata": {
        "id": "2j8l2EA6cHPA"
      }
    },
    {
      "cell_type": "code",
      "source": [
        "df= pd.read_csv('data_fewshots.csv',lineterminator='\\n')\n",
        "#df\n",
        "#df.drop(columns=['Unnamed: 0'],inplace= True)\n",
        "#df.columns\n",
        "df"
      ],
      "metadata": {
        "id": "8ruxRe1AsJxF",
        "colab": {
          "base_uri": "https://localhost:8080/",
          "height": 580
        },
        "outputId": "894bd479-8e17-4775-a23f-4a810cb4cd19"
      },
      "execution_count": 40,
      "outputs": [
        {
          "output_type": "execute_result",
          "data": {
            "text/plain": [
              "     Unnamed: 0                                         Email Body  Label\n",
              "0             0  Sir,I didnt receive refund for failed train bo...      2\n",
              "1             1  Enter your Yatra Ref number =           Intera...      2\n",
              "2             2  Dear Team,Kindly activate my rail id for ERP C...      2\n",
              "3             3  Enter your Yatra Ref number = yatraRefNo      ...      2\n",
              "4             4  Reply: RE:'YA:30893404' CDXDFGVCJVCHGFJHNB30-D...      2\n",
              "..          ...                                                ...    ...\n",
              "668         668  Respected sir / madam ,Please continue replyin...      4\n",
              "669         669  Respected sir / madam ,Please continue replyin...      4\n",
              "670         670  Hi Team,Any update on this?Thank YouSohanOn We...      4\n",
              "671         671  Hi Yatra Team,I was a bit disappointed when bo...      4\n",
              "672         672  Dear Mr. Vikash, Regret more than 3days has pa...      4\n",
              "\n",
              "[673 rows x 3 columns]"
            ],
            "text/html": [
              "\n",
              "  <div id=\"df-a18a666d-49bf-4b43-9b21-76e240f773c8\">\n",
              "    <div class=\"colab-df-container\">\n",
              "      <div>\n",
              "<style scoped>\n",
              "    .dataframe tbody tr th:only-of-type {\n",
              "        vertical-align: middle;\n",
              "    }\n",
              "\n",
              "    .dataframe tbody tr th {\n",
              "        vertical-align: top;\n",
              "    }\n",
              "\n",
              "    .dataframe thead th {\n",
              "        text-align: right;\n",
              "    }\n",
              "</style>\n",
              "<table border=\"1\" class=\"dataframe\">\n",
              "  <thead>\n",
              "    <tr style=\"text-align: right;\">\n",
              "      <th></th>\n",
              "      <th>Unnamed: 0</th>\n",
              "      <th>Email Body</th>\n",
              "      <th>Label</th>\n",
              "    </tr>\n",
              "  </thead>\n",
              "  <tbody>\n",
              "    <tr>\n",
              "      <th>0</th>\n",
              "      <td>0</td>\n",
              "      <td>Sir,I didnt receive refund for failed train bo...</td>\n",
              "      <td>2</td>\n",
              "    </tr>\n",
              "    <tr>\n",
              "      <th>1</th>\n",
              "      <td>1</td>\n",
              "      <td>Enter your Yatra Ref number =           Intera...</td>\n",
              "      <td>2</td>\n",
              "    </tr>\n",
              "    <tr>\n",
              "      <th>2</th>\n",
              "      <td>2</td>\n",
              "      <td>Dear Team,Kindly activate my rail id for ERP C...</td>\n",
              "      <td>2</td>\n",
              "    </tr>\n",
              "    <tr>\n",
              "      <th>3</th>\n",
              "      <td>3</td>\n",
              "      <td>Enter your Yatra Ref number = yatraRefNo      ...</td>\n",
              "      <td>2</td>\n",
              "    </tr>\n",
              "    <tr>\n",
              "      <th>4</th>\n",
              "      <td>4</td>\n",
              "      <td>Reply: RE:'YA:30893404' CDXDFGVCJVCHGFJHNB30-D...</td>\n",
              "      <td>2</td>\n",
              "    </tr>\n",
              "    <tr>\n",
              "      <th>...</th>\n",
              "      <td>...</td>\n",
              "      <td>...</td>\n",
              "      <td>...</td>\n",
              "    </tr>\n",
              "    <tr>\n",
              "      <th>668</th>\n",
              "      <td>668</td>\n",
              "      <td>Respected sir / madam ,Please continue replyin...</td>\n",
              "      <td>4</td>\n",
              "    </tr>\n",
              "    <tr>\n",
              "      <th>669</th>\n",
              "      <td>669</td>\n",
              "      <td>Respected sir / madam ,Please continue replyin...</td>\n",
              "      <td>4</td>\n",
              "    </tr>\n",
              "    <tr>\n",
              "      <th>670</th>\n",
              "      <td>670</td>\n",
              "      <td>Hi Team,Any update on this?Thank YouSohanOn We...</td>\n",
              "      <td>4</td>\n",
              "    </tr>\n",
              "    <tr>\n",
              "      <th>671</th>\n",
              "      <td>671</td>\n",
              "      <td>Hi Yatra Team,I was a bit disappointed when bo...</td>\n",
              "      <td>4</td>\n",
              "    </tr>\n",
              "    <tr>\n",
              "      <th>672</th>\n",
              "      <td>672</td>\n",
              "      <td>Dear Mr. Vikash, Regret more than 3days has pa...</td>\n",
              "      <td>4</td>\n",
              "    </tr>\n",
              "  </tbody>\n",
              "</table>\n",
              "<p>673 rows × 3 columns</p>\n",
              "</div>\n",
              "      <button class=\"colab-df-convert\" onclick=\"convertToInteractive('df-a18a666d-49bf-4b43-9b21-76e240f773c8')\"\n",
              "              title=\"Convert this dataframe to an interactive table.\"\n",
              "              style=\"display:none;\">\n",
              "        \n",
              "  <svg xmlns=\"http://www.w3.org/2000/svg\" height=\"24px\"viewBox=\"0 0 24 24\"\n",
              "       width=\"24px\">\n",
              "    <path d=\"M0 0h24v24H0V0z\" fill=\"none\"/>\n",
              "    <path d=\"M18.56 5.44l.94 2.06.94-2.06 2.06-.94-2.06-.94-.94-2.06-.94 2.06-2.06.94zm-11 1L8.5 8.5l.94-2.06 2.06-.94-2.06-.94L8.5 2.5l-.94 2.06-2.06.94zm10 10l.94 2.06.94-2.06 2.06-.94-2.06-.94-.94-2.06-.94 2.06-2.06.94z\"/><path d=\"M17.41 7.96l-1.37-1.37c-.4-.4-.92-.59-1.43-.59-.52 0-1.04.2-1.43.59L10.3 9.45l-7.72 7.72c-.78.78-.78 2.05 0 2.83L4 21.41c.39.39.9.59 1.41.59.51 0 1.02-.2 1.41-.59l7.78-7.78 2.81-2.81c.8-.78.8-2.07 0-2.86zM5.41 20L4 18.59l7.72-7.72 1.47 1.35L5.41 20z\"/>\n",
              "  </svg>\n",
              "      </button>\n",
              "      \n",
              "  <style>\n",
              "    .colab-df-container {\n",
              "      display:flex;\n",
              "      flex-wrap:wrap;\n",
              "      gap: 12px;\n",
              "    }\n",
              "\n",
              "    .colab-df-convert {\n",
              "      background-color: #E8F0FE;\n",
              "      border: none;\n",
              "      border-radius: 50%;\n",
              "      cursor: pointer;\n",
              "      display: none;\n",
              "      fill: #1967D2;\n",
              "      height: 32px;\n",
              "      padding: 0 0 0 0;\n",
              "      width: 32px;\n",
              "    }\n",
              "\n",
              "    .colab-df-convert:hover {\n",
              "      background-color: #E2EBFA;\n",
              "      box-shadow: 0px 1px 2px rgba(60, 64, 67, 0.3), 0px 1px 3px 1px rgba(60, 64, 67, 0.15);\n",
              "      fill: #174EA6;\n",
              "    }\n",
              "\n",
              "    [theme=dark] .colab-df-convert {\n",
              "      background-color: #3B4455;\n",
              "      fill: #D2E3FC;\n",
              "    }\n",
              "\n",
              "    [theme=dark] .colab-df-convert:hover {\n",
              "      background-color: #434B5C;\n",
              "      box-shadow: 0px 1px 3px 1px rgba(0, 0, 0, 0.15);\n",
              "      filter: drop-shadow(0px 1px 2px rgba(0, 0, 0, 0.3));\n",
              "      fill: #FFFFFF;\n",
              "    }\n",
              "  </style>\n",
              "\n",
              "      <script>\n",
              "        const buttonEl =\n",
              "          document.querySelector('#df-a18a666d-49bf-4b43-9b21-76e240f773c8 button.colab-df-convert');\n",
              "        buttonEl.style.display =\n",
              "          google.colab.kernel.accessAllowed ? 'block' : 'none';\n",
              "\n",
              "        async function convertToInteractive(key) {\n",
              "          const element = document.querySelector('#df-a18a666d-49bf-4b43-9b21-76e240f773c8');\n",
              "          const dataTable =\n",
              "            await google.colab.kernel.invokeFunction('convertToInteractive',\n",
              "                                                     [key], {});\n",
              "          if (!dataTable) return;\n",
              "\n",
              "          const docLinkHtml = 'Like what you see? Visit the ' +\n",
              "            '<a target=\"_blank\" href=https://colab.research.google.com/notebooks/data_table.ipynb>data table notebook</a>'\n",
              "            + ' to learn more about interactive tables.';\n",
              "          element.innerHTML = '';\n",
              "          dataTable['output_type'] = 'display_data';\n",
              "          await google.colab.output.renderOutput(dataTable, element);\n",
              "          const docLink = document.createElement('div');\n",
              "          docLink.innerHTML = docLinkHtml;\n",
              "          element.appendChild(docLink);\n",
              "        }\n",
              "      </script>\n",
              "    </div>\n",
              "  </div>\n",
              "  "
            ]
          },
          "metadata": {},
          "execution_count": 40
        }
      ]
    },
    {
      "cell_type": "markdown",
      "source": [
        "#### 5. Data cleaning "
      ],
      "metadata": {
        "id": "8g0KJHffcRHZ"
      }
    },
    {
      "cell_type": "code",
      "source": [
        "import regex as re"
      ],
      "metadata": {
        "id": "Ak9xDoUaE0MH"
      },
      "execution_count": 41,
      "outputs": []
    },
    {
      "cell_type": "markdown",
      "source": [
        "#### 5.1 Get only chars and remove all special chars"
      ],
      "metadata": {
        "id": "_mMIfL0EcXtt"
      }
    },
    {
      "cell_type": "code",
      "source": [
        "def get_only_chars(line):\n",
        "\n",
        "    # Make the empty string\n",
        "    clean_line = \"\"\n",
        "\n",
        "    # Replace single inverted comma with truncated space\n",
        "    line = line.replace(\"’\", \"\")\n",
        "\n",
        "    # Replace inverted comma with truncated space\n",
        "   # line = line.replace(\"'\", \"\")\n",
        "\n",
        "    # Replace inverted hyphens with truncated space\n",
        "    line = line.replace(\"-\", \" \") \n",
        "\n",
        "    # Replace horizontal tab with truncated space\n",
        "    line = line.replace(\"\\t\", \" \")\n",
        "\n",
        "    # Replace new line with truncated space\n",
        "    line = line.replace(\"\\n\", \" \")\n",
        "\n",
        "    # Make everything in lower case\n",
        "    line = line.lower()\n",
        "\n",
        "    # For every char there should not be any number\n",
        "    for char in line:\n",
        "        if char in 'qwertyuiopasdfghjklzxcvbnm ':\n",
        "            clean_line += char\n",
        "        else:\n",
        "            clean_line += ' '\n",
        "\n",
        "    # Delete the extra spaces\n",
        "    clean_line = re.sub(' +',' ',clean_line) #delete extra spaces\n",
        "    if clean_line[0] == ' ':\n",
        "        clean_line = clean_line[1:]\n",
        "\n",
        "    # Finally return the cleaned text\n",
        "    return clean_line"
      ],
      "metadata": {
        "id": "1v-a4uaPsJ1V"
      },
      "execution_count": 42,
      "outputs": []
    },
    {
      "cell_type": "markdown",
      "source": [
        "#### 5.2 Text conversion\n"
      ],
      "metadata": {
        "id": "Jy5GPnVmTehB"
      }
    },
    {
      "cell_type": "code",
      "source": [
        "df[\"Text\"] = df[\"Email Body\"].astype(str)\n",
        "df.drop(columns=['Email Body','Unnamed: 0'],inplace= True)\n",
        "df"
      ],
      "metadata": {
        "id": "xQJBTgFsj6RJ",
        "colab": {
          "base_uri": "https://localhost:8080/",
          "height": 424
        },
        "outputId": "402d233b-12c0-4221-d094-4181d07090b5"
      },
      "execution_count": 45,
      "outputs": [
        {
          "output_type": "execute_result",
          "data": {
            "text/plain": [
              "     Label                                               Text\n",
              "0        2  Sir,I didnt receive refund for failed train bo...\n",
              "1        2  Enter your Yatra Ref number =           Intera...\n",
              "2        2  Dear Team,Kindly activate my rail id for ERP C...\n",
              "3        2  Enter your Yatra Ref number = yatraRefNo      ...\n",
              "4        2  Reply: RE:'YA:30893404' CDXDFGVCJVCHGFJHNB30-D...\n",
              "..     ...                                                ...\n",
              "668      4  Respected sir / madam ,Please continue replyin...\n",
              "669      4  Respected sir / madam ,Please continue replyin...\n",
              "670      4  Hi Team,Any update on this?Thank YouSohanOn We...\n",
              "671      4  Hi Yatra Team,I was a bit disappointed when bo...\n",
              "672      4  Dear Mr. Vikash, Regret more than 3days has pa...\n",
              "\n",
              "[673 rows x 2 columns]"
            ],
            "text/html": [
              "\n",
              "  <div id=\"df-fbb25071-5543-4616-bccc-04e51089e7fe\">\n",
              "    <div class=\"colab-df-container\">\n",
              "      <div>\n",
              "<style scoped>\n",
              "    .dataframe tbody tr th:only-of-type {\n",
              "        vertical-align: middle;\n",
              "    }\n",
              "\n",
              "    .dataframe tbody tr th {\n",
              "        vertical-align: top;\n",
              "    }\n",
              "\n",
              "    .dataframe thead th {\n",
              "        text-align: right;\n",
              "    }\n",
              "</style>\n",
              "<table border=\"1\" class=\"dataframe\">\n",
              "  <thead>\n",
              "    <tr style=\"text-align: right;\">\n",
              "      <th></th>\n",
              "      <th>Label</th>\n",
              "      <th>Text</th>\n",
              "    </tr>\n",
              "  </thead>\n",
              "  <tbody>\n",
              "    <tr>\n",
              "      <th>0</th>\n",
              "      <td>2</td>\n",
              "      <td>Sir,I didnt receive refund for failed train bo...</td>\n",
              "    </tr>\n",
              "    <tr>\n",
              "      <th>1</th>\n",
              "      <td>2</td>\n",
              "      <td>Enter your Yatra Ref number =           Intera...</td>\n",
              "    </tr>\n",
              "    <tr>\n",
              "      <th>2</th>\n",
              "      <td>2</td>\n",
              "      <td>Dear Team,Kindly activate my rail id for ERP C...</td>\n",
              "    </tr>\n",
              "    <tr>\n",
              "      <th>3</th>\n",
              "      <td>2</td>\n",
              "      <td>Enter your Yatra Ref number = yatraRefNo      ...</td>\n",
              "    </tr>\n",
              "    <tr>\n",
              "      <th>4</th>\n",
              "      <td>2</td>\n",
              "      <td>Reply: RE:'YA:30893404' CDXDFGVCJVCHGFJHNB30-D...</td>\n",
              "    </tr>\n",
              "    <tr>\n",
              "      <th>...</th>\n",
              "      <td>...</td>\n",
              "      <td>...</td>\n",
              "    </tr>\n",
              "    <tr>\n",
              "      <th>668</th>\n",
              "      <td>4</td>\n",
              "      <td>Respected sir / madam ,Please continue replyin...</td>\n",
              "    </tr>\n",
              "    <tr>\n",
              "      <th>669</th>\n",
              "      <td>4</td>\n",
              "      <td>Respected sir / madam ,Please continue replyin...</td>\n",
              "    </tr>\n",
              "    <tr>\n",
              "      <th>670</th>\n",
              "      <td>4</td>\n",
              "      <td>Hi Team,Any update on this?Thank YouSohanOn We...</td>\n",
              "    </tr>\n",
              "    <tr>\n",
              "      <th>671</th>\n",
              "      <td>4</td>\n",
              "      <td>Hi Yatra Team,I was a bit disappointed when bo...</td>\n",
              "    </tr>\n",
              "    <tr>\n",
              "      <th>672</th>\n",
              "      <td>4</td>\n",
              "      <td>Dear Mr. Vikash, Regret more than 3days has pa...</td>\n",
              "    </tr>\n",
              "  </tbody>\n",
              "</table>\n",
              "<p>673 rows × 2 columns</p>\n",
              "</div>\n",
              "      <button class=\"colab-df-convert\" onclick=\"convertToInteractive('df-fbb25071-5543-4616-bccc-04e51089e7fe')\"\n",
              "              title=\"Convert this dataframe to an interactive table.\"\n",
              "              style=\"display:none;\">\n",
              "        \n",
              "  <svg xmlns=\"http://www.w3.org/2000/svg\" height=\"24px\"viewBox=\"0 0 24 24\"\n",
              "       width=\"24px\">\n",
              "    <path d=\"M0 0h24v24H0V0z\" fill=\"none\"/>\n",
              "    <path d=\"M18.56 5.44l.94 2.06.94-2.06 2.06-.94-2.06-.94-.94-2.06-.94 2.06-2.06.94zm-11 1L8.5 8.5l.94-2.06 2.06-.94-2.06-.94L8.5 2.5l-.94 2.06-2.06.94zm10 10l.94 2.06.94-2.06 2.06-.94-2.06-.94-.94-2.06-.94 2.06-2.06.94z\"/><path d=\"M17.41 7.96l-1.37-1.37c-.4-.4-.92-.59-1.43-.59-.52 0-1.04.2-1.43.59L10.3 9.45l-7.72 7.72c-.78.78-.78 2.05 0 2.83L4 21.41c.39.39.9.59 1.41.59.51 0 1.02-.2 1.41-.59l7.78-7.78 2.81-2.81c.8-.78.8-2.07 0-2.86zM5.41 20L4 18.59l7.72-7.72 1.47 1.35L5.41 20z\"/>\n",
              "  </svg>\n",
              "      </button>\n",
              "      \n",
              "  <style>\n",
              "    .colab-df-container {\n",
              "      display:flex;\n",
              "      flex-wrap:wrap;\n",
              "      gap: 12px;\n",
              "    }\n",
              "\n",
              "    .colab-df-convert {\n",
              "      background-color: #E8F0FE;\n",
              "      border: none;\n",
              "      border-radius: 50%;\n",
              "      cursor: pointer;\n",
              "      display: none;\n",
              "      fill: #1967D2;\n",
              "      height: 32px;\n",
              "      padding: 0 0 0 0;\n",
              "      width: 32px;\n",
              "    }\n",
              "\n",
              "    .colab-df-convert:hover {\n",
              "      background-color: #E2EBFA;\n",
              "      box-shadow: 0px 1px 2px rgba(60, 64, 67, 0.3), 0px 1px 3px 1px rgba(60, 64, 67, 0.15);\n",
              "      fill: #174EA6;\n",
              "    }\n",
              "\n",
              "    [theme=dark] .colab-df-convert {\n",
              "      background-color: #3B4455;\n",
              "      fill: #D2E3FC;\n",
              "    }\n",
              "\n",
              "    [theme=dark] .colab-df-convert:hover {\n",
              "      background-color: #434B5C;\n",
              "      box-shadow: 0px 1px 3px 1px rgba(0, 0, 0, 0.15);\n",
              "      filter: drop-shadow(0px 1px 2px rgba(0, 0, 0, 0.3));\n",
              "      fill: #FFFFFF;\n",
              "    }\n",
              "  </style>\n",
              "\n",
              "      <script>\n",
              "        const buttonEl =\n",
              "          document.querySelector('#df-fbb25071-5543-4616-bccc-04e51089e7fe button.colab-df-convert');\n",
              "        buttonEl.style.display =\n",
              "          google.colab.kernel.accessAllowed ? 'block' : 'none';\n",
              "\n",
              "        async function convertToInteractive(key) {\n",
              "          const element = document.querySelector('#df-fbb25071-5543-4616-bccc-04e51089e7fe');\n",
              "          const dataTable =\n",
              "            await google.colab.kernel.invokeFunction('convertToInteractive',\n",
              "                                                     [key], {});\n",
              "          if (!dataTable) return;\n",
              "\n",
              "          const docLinkHtml = 'Like what you see? Visit the ' +\n",
              "            '<a target=\"_blank\" href=https://colab.research.google.com/notebooks/data_table.ipynb>data table notebook</a>'\n",
              "            + ' to learn more about interactive tables.';\n",
              "          element.innerHTML = '';\n",
              "          dataTable['output_type'] = 'display_data';\n",
              "          await google.colab.output.renderOutput(dataTable, element);\n",
              "          const docLink = document.createElement('div');\n",
              "          docLink.innerHTML = docLinkHtml;\n",
              "          element.appendChild(docLink);\n",
              "        }\n",
              "      </script>\n",
              "    </div>\n",
              "  </div>\n",
              "  "
            ]
          },
          "metadata": {},
          "execution_count": 45
        }
      ]
    },
    {
      "cell_type": "markdown",
      "source": [
        "#### 5.3 Apply on the text feature to clean the data"
      ],
      "metadata": {
        "id": "Q3Y14t5NeL0F"
      }
    },
    {
      "cell_type": "code",
      "source": [
        "df['Text'] = df['Text'].apply(lambda x: get_only_chars(x))\n",
        "df"
      ],
      "metadata": {
        "id": "KaMlFPJasJ3r",
        "colab": {
          "base_uri": "https://localhost:8080/",
          "height": 424
        },
        "outputId": "b96e6c75-53d4-4184-b44d-7942bb8260a1"
      },
      "execution_count": 46,
      "outputs": [
        {
          "output_type": "execute_result",
          "data": {
            "text/plain": [
              "     Label                                               Text\n",
              "0        2  sir i didnt receive refund for failed train bo...\n",
              "1        2  enter your yatra ref number interaction type o...\n",
              "2        2  dear team kindly activate my rail id for erp c...\n",
              "3        2  enter your yatra ref number yatrarefno interac...\n",
              "4        2  reply re ya cdxdfgvcjvchgfjhnb domestic flight...\n",
              "..     ...                                                ...\n",
              "668      4  respected sir madam please continue replying o...\n",
              "669      4  respected sir madam please continue replying o...\n",
              "670      4  hi team any update on this thank yousohanon we...\n",
              "671      4  hi yatra team i was a bit disappointed when bo...\n",
              "672      4  dear mr vikash regret more than days has passe...\n",
              "\n",
              "[673 rows x 2 columns]"
            ],
            "text/html": [
              "\n",
              "  <div id=\"df-b6712e9c-ff0d-4eb6-86c6-e88fb4d8517e\">\n",
              "    <div class=\"colab-df-container\">\n",
              "      <div>\n",
              "<style scoped>\n",
              "    .dataframe tbody tr th:only-of-type {\n",
              "        vertical-align: middle;\n",
              "    }\n",
              "\n",
              "    .dataframe tbody tr th {\n",
              "        vertical-align: top;\n",
              "    }\n",
              "\n",
              "    .dataframe thead th {\n",
              "        text-align: right;\n",
              "    }\n",
              "</style>\n",
              "<table border=\"1\" class=\"dataframe\">\n",
              "  <thead>\n",
              "    <tr style=\"text-align: right;\">\n",
              "      <th></th>\n",
              "      <th>Label</th>\n",
              "      <th>Text</th>\n",
              "    </tr>\n",
              "  </thead>\n",
              "  <tbody>\n",
              "    <tr>\n",
              "      <th>0</th>\n",
              "      <td>2</td>\n",
              "      <td>sir i didnt receive refund for failed train bo...</td>\n",
              "    </tr>\n",
              "    <tr>\n",
              "      <th>1</th>\n",
              "      <td>2</td>\n",
              "      <td>enter your yatra ref number interaction type o...</td>\n",
              "    </tr>\n",
              "    <tr>\n",
              "      <th>2</th>\n",
              "      <td>2</td>\n",
              "      <td>dear team kindly activate my rail id for erp c...</td>\n",
              "    </tr>\n",
              "    <tr>\n",
              "      <th>3</th>\n",
              "      <td>2</td>\n",
              "      <td>enter your yatra ref number yatrarefno interac...</td>\n",
              "    </tr>\n",
              "    <tr>\n",
              "      <th>4</th>\n",
              "      <td>2</td>\n",
              "      <td>reply re ya cdxdfgvcjvchgfjhnb domestic flight...</td>\n",
              "    </tr>\n",
              "    <tr>\n",
              "      <th>...</th>\n",
              "      <td>...</td>\n",
              "      <td>...</td>\n",
              "    </tr>\n",
              "    <tr>\n",
              "      <th>668</th>\n",
              "      <td>4</td>\n",
              "      <td>respected sir madam please continue replying o...</td>\n",
              "    </tr>\n",
              "    <tr>\n",
              "      <th>669</th>\n",
              "      <td>4</td>\n",
              "      <td>respected sir madam please continue replying o...</td>\n",
              "    </tr>\n",
              "    <tr>\n",
              "      <th>670</th>\n",
              "      <td>4</td>\n",
              "      <td>hi team any update on this thank yousohanon we...</td>\n",
              "    </tr>\n",
              "    <tr>\n",
              "      <th>671</th>\n",
              "      <td>4</td>\n",
              "      <td>hi yatra team i was a bit disappointed when bo...</td>\n",
              "    </tr>\n",
              "    <tr>\n",
              "      <th>672</th>\n",
              "      <td>4</td>\n",
              "      <td>dear mr vikash regret more than days has passe...</td>\n",
              "    </tr>\n",
              "  </tbody>\n",
              "</table>\n",
              "<p>673 rows × 2 columns</p>\n",
              "</div>\n",
              "      <button class=\"colab-df-convert\" onclick=\"convertToInteractive('df-b6712e9c-ff0d-4eb6-86c6-e88fb4d8517e')\"\n",
              "              title=\"Convert this dataframe to an interactive table.\"\n",
              "              style=\"display:none;\">\n",
              "        \n",
              "  <svg xmlns=\"http://www.w3.org/2000/svg\" height=\"24px\"viewBox=\"0 0 24 24\"\n",
              "       width=\"24px\">\n",
              "    <path d=\"M0 0h24v24H0V0z\" fill=\"none\"/>\n",
              "    <path d=\"M18.56 5.44l.94 2.06.94-2.06 2.06-.94-2.06-.94-.94-2.06-.94 2.06-2.06.94zm-11 1L8.5 8.5l.94-2.06 2.06-.94-2.06-.94L8.5 2.5l-.94 2.06-2.06.94zm10 10l.94 2.06.94-2.06 2.06-.94-2.06-.94-.94-2.06-.94 2.06-2.06.94z\"/><path d=\"M17.41 7.96l-1.37-1.37c-.4-.4-.92-.59-1.43-.59-.52 0-1.04.2-1.43.59L10.3 9.45l-7.72 7.72c-.78.78-.78 2.05 0 2.83L4 21.41c.39.39.9.59 1.41.59.51 0 1.02-.2 1.41-.59l7.78-7.78 2.81-2.81c.8-.78.8-2.07 0-2.86zM5.41 20L4 18.59l7.72-7.72 1.47 1.35L5.41 20z\"/>\n",
              "  </svg>\n",
              "      </button>\n",
              "      \n",
              "  <style>\n",
              "    .colab-df-container {\n",
              "      display:flex;\n",
              "      flex-wrap:wrap;\n",
              "      gap: 12px;\n",
              "    }\n",
              "\n",
              "    .colab-df-convert {\n",
              "      background-color: #E8F0FE;\n",
              "      border: none;\n",
              "      border-radius: 50%;\n",
              "      cursor: pointer;\n",
              "      display: none;\n",
              "      fill: #1967D2;\n",
              "      height: 32px;\n",
              "      padding: 0 0 0 0;\n",
              "      width: 32px;\n",
              "    }\n",
              "\n",
              "    .colab-df-convert:hover {\n",
              "      background-color: #E2EBFA;\n",
              "      box-shadow: 0px 1px 2px rgba(60, 64, 67, 0.3), 0px 1px 3px 1px rgba(60, 64, 67, 0.15);\n",
              "      fill: #174EA6;\n",
              "    }\n",
              "\n",
              "    [theme=dark] .colab-df-convert {\n",
              "      background-color: #3B4455;\n",
              "      fill: #D2E3FC;\n",
              "    }\n",
              "\n",
              "    [theme=dark] .colab-df-convert:hover {\n",
              "      background-color: #434B5C;\n",
              "      box-shadow: 0px 1px 3px 1px rgba(0, 0, 0, 0.15);\n",
              "      filter: drop-shadow(0px 1px 2px rgba(0, 0, 0, 0.3));\n",
              "      fill: #FFFFFF;\n",
              "    }\n",
              "  </style>\n",
              "\n",
              "      <script>\n",
              "        const buttonEl =\n",
              "          document.querySelector('#df-b6712e9c-ff0d-4eb6-86c6-e88fb4d8517e button.colab-df-convert');\n",
              "        buttonEl.style.display =\n",
              "          google.colab.kernel.accessAllowed ? 'block' : 'none';\n",
              "\n",
              "        async function convertToInteractive(key) {\n",
              "          const element = document.querySelector('#df-b6712e9c-ff0d-4eb6-86c6-e88fb4d8517e');\n",
              "          const dataTable =\n",
              "            await google.colab.kernel.invokeFunction('convertToInteractive',\n",
              "                                                     [key], {});\n",
              "          if (!dataTable) return;\n",
              "\n",
              "          const docLinkHtml = 'Like what you see? Visit the ' +\n",
              "            '<a target=\"_blank\" href=https://colab.research.google.com/notebooks/data_table.ipynb>data table notebook</a>'\n",
              "            + ' to learn more about interactive tables.';\n",
              "          element.innerHTML = '';\n",
              "          dataTable['output_type'] = 'display_data';\n",
              "          await google.colab.output.renderOutput(dataTable, element);\n",
              "          const docLink = document.createElement('div');\n",
              "          docLink.innerHTML = docLinkHtml;\n",
              "          element.appendChild(docLink);\n",
              "        }\n",
              "      </script>\n",
              "    </div>\n",
              "  </div>\n",
              "  "
            ]
          },
          "metadata": {},
          "execution_count": 46
        }
      ]
    },
    {
      "cell_type": "markdown",
      "source": [
        "#### 6. Label counts"
      ],
      "metadata": {
        "id": "1c0BpOnVTtTK"
      }
    },
    {
      "cell_type": "code",
      "source": [
        "df['Label'].value_counts()"
      ],
      "metadata": {
        "colab": {
          "base_uri": "https://localhost:8080/"
        },
        "id": "8P-0IhxIeg6B",
        "outputId": "3bb209ac-0ab9-43de-d893-03d1ddd5731c"
      },
      "execution_count": 47,
      "outputs": [
        {
          "output_type": "execute_result",
          "data": {
            "text/plain": [
              "3    392\n",
              "1    136\n",
              "2     76\n",
              "4     69\n",
              "Name: Label, dtype: int64"
            ]
          },
          "metadata": {},
          "execution_count": 47
        }
      ]
    },
    {
      "cell_type": "markdown",
      "source": [
        "#### 7. Define the no of classes and samples/class"
      ],
      "metadata": {
        "id": "K9AtojSKep9M"
      }
    },
    {
      "cell_type": "code",
      "source": [
        "# K way : support set has k classes\n",
        "# n-shot : every class has n samples\n",
        "# 2 way 3 shot \n",
        "num_classes = 2\n",
        "sample_size = 3\n",
        "# Graph - Accuracy vs no of ways(i.e no of samples)\n",
        "\n",
        "#Note.\n",
        "# 1. As no of classes increases acccuracy drops down \n",
        "# 2. Because making choices from small set is more easy than from a biggger set\n",
        "\n",
        "\n",
        "# Graph - Accuracy vs no of shots(i.e no of shots)\n",
        "\n",
        "# 1. With more samples predicction becomes eaiser\n",
        "# 2. Therefore the accuracy inccreases with  no of shots"
      ],
      "metadata": {
        "id": "FCPunTdfFcoi"
      },
      "execution_count": 94,
      "outputs": []
    },
    {
      "cell_type": "markdown",
      "source": [
        "#### 8. Generate the samples"
      ],
      "metadata": {
        "id": "pBaG8K-fT_ys"
      }
    },
    {
      "cell_type": "code",
      "source": [
        "# Generate samples that contains K samples of each class\n",
        "\n",
        "def gen_sample(sample_size, num_classes):\n",
        "\n",
        "    df_1 = df[(df[\"Label\"]<num_classes + 1)].reset_index().drop([\"index\"], axis=1).reset_index().drop([\"index\"], axis=1)\n",
        "    train = df_1[df_1[\"Label\"] == np.unique(df_1['Label'])[0]].sample(sample_size)\n",
        "    \n",
        "\n",
        "    train_index = train.index.tolist()\n",
        "\n",
        "    for i in range(1,num_classes):\n",
        "        train_2 = df_1[df_1[\"Label\"] == np.unique(df_1['Label'])[i]].sample(sample_size)\n",
        "        train = pd.concat([train, train_2], axis=0)\n",
        "        train_index.extend(train_2.index.tolist())\n",
        "\n",
        "    test = df_1[~df_1.index.isin(train_index)]\n",
        "\n",
        "    return train, test"
      ],
      "metadata": {
        "id": "NHv3eGvqFcrr"
      },
      "execution_count": 95,
      "outputs": []
    },
    {
      "cell_type": "markdown",
      "source": [
        "#### 9. Train and test"
      ],
      "metadata": {
        "id": "mcZEp1q9UP9f"
      }
    },
    {
      "cell_type": "code",
      "source": [
        "train, test = gen_sample(sample_size, num_classes)\n",
        "\n",
        "X_train = train['Text']\n",
        "y_train = train['Label'].values\n",
        "X_test = test['Text']\n",
        "y_test = test['Label'].values"
      ],
      "metadata": {
        "id": "Nln0nWc9Fcux"
      },
      "execution_count": 96,
      "outputs": []
    },
    {
      "cell_type": "code",
      "source": [
        "train"
      ],
      "metadata": {
        "colab": {
          "base_uri": "https://localhost:8080/",
          "height": 238
        },
        "id": "KVyn7JWF67IW",
        "outputId": "4b53a1f0-0bfe-4312-cfab-999ae89aa539"
      },
      "execution_count": 97,
      "outputs": [
        {
          "output_type": "execute_result",
          "data": {
            "text/plain": [
              "     Label                                               Text\n",
              "187      1  it is not dynamic issue im not new to flight b...\n",
              "162      1  thank you for your response but now i got info...\n",
              "205      1  hi please refer to yatra reference number ta t...\n",
              "22       2  hi team i was trying book train tickets throug...\n",
              "47       2  enter your yatra ref number interaction type r...\n",
              "17       2  dear team still i havent got the payment kindl..."
            ],
            "text/html": [
              "\n",
              "  <div id=\"df-5027a501-4be5-469a-9f15-c261c3f6826c\">\n",
              "    <div class=\"colab-df-container\">\n",
              "      <div>\n",
              "<style scoped>\n",
              "    .dataframe tbody tr th:only-of-type {\n",
              "        vertical-align: middle;\n",
              "    }\n",
              "\n",
              "    .dataframe tbody tr th {\n",
              "        vertical-align: top;\n",
              "    }\n",
              "\n",
              "    .dataframe thead th {\n",
              "        text-align: right;\n",
              "    }\n",
              "</style>\n",
              "<table border=\"1\" class=\"dataframe\">\n",
              "  <thead>\n",
              "    <tr style=\"text-align: right;\">\n",
              "      <th></th>\n",
              "      <th>Label</th>\n",
              "      <th>Text</th>\n",
              "    </tr>\n",
              "  </thead>\n",
              "  <tbody>\n",
              "    <tr>\n",
              "      <th>187</th>\n",
              "      <td>1</td>\n",
              "      <td>it is not dynamic issue im not new to flight b...</td>\n",
              "    </tr>\n",
              "    <tr>\n",
              "      <th>162</th>\n",
              "      <td>1</td>\n",
              "      <td>thank you for your response but now i got info...</td>\n",
              "    </tr>\n",
              "    <tr>\n",
              "      <th>205</th>\n",
              "      <td>1</td>\n",
              "      <td>hi please refer to yatra reference number ta t...</td>\n",
              "    </tr>\n",
              "    <tr>\n",
              "      <th>22</th>\n",
              "      <td>2</td>\n",
              "      <td>hi team i was trying book train tickets throug...</td>\n",
              "    </tr>\n",
              "    <tr>\n",
              "      <th>47</th>\n",
              "      <td>2</td>\n",
              "      <td>enter your yatra ref number interaction type r...</td>\n",
              "    </tr>\n",
              "    <tr>\n",
              "      <th>17</th>\n",
              "      <td>2</td>\n",
              "      <td>dear team still i havent got the payment kindl...</td>\n",
              "    </tr>\n",
              "  </tbody>\n",
              "</table>\n",
              "</div>\n",
              "      <button class=\"colab-df-convert\" onclick=\"convertToInteractive('df-5027a501-4be5-469a-9f15-c261c3f6826c')\"\n",
              "              title=\"Convert this dataframe to an interactive table.\"\n",
              "              style=\"display:none;\">\n",
              "        \n",
              "  <svg xmlns=\"http://www.w3.org/2000/svg\" height=\"24px\"viewBox=\"0 0 24 24\"\n",
              "       width=\"24px\">\n",
              "    <path d=\"M0 0h24v24H0V0z\" fill=\"none\"/>\n",
              "    <path d=\"M18.56 5.44l.94 2.06.94-2.06 2.06-.94-2.06-.94-.94-2.06-.94 2.06-2.06.94zm-11 1L8.5 8.5l.94-2.06 2.06-.94-2.06-.94L8.5 2.5l-.94 2.06-2.06.94zm10 10l.94 2.06.94-2.06 2.06-.94-2.06-.94-.94-2.06-.94 2.06-2.06.94z\"/><path d=\"M17.41 7.96l-1.37-1.37c-.4-.4-.92-.59-1.43-.59-.52 0-1.04.2-1.43.59L10.3 9.45l-7.72 7.72c-.78.78-.78 2.05 0 2.83L4 21.41c.39.39.9.59 1.41.59.51 0 1.02-.2 1.41-.59l7.78-7.78 2.81-2.81c.8-.78.8-2.07 0-2.86zM5.41 20L4 18.59l7.72-7.72 1.47 1.35L5.41 20z\"/>\n",
              "  </svg>\n",
              "      </button>\n",
              "      \n",
              "  <style>\n",
              "    .colab-df-container {\n",
              "      display:flex;\n",
              "      flex-wrap:wrap;\n",
              "      gap: 12px;\n",
              "    }\n",
              "\n",
              "    .colab-df-convert {\n",
              "      background-color: #E8F0FE;\n",
              "      border: none;\n",
              "      border-radius: 50%;\n",
              "      cursor: pointer;\n",
              "      display: none;\n",
              "      fill: #1967D2;\n",
              "      height: 32px;\n",
              "      padding: 0 0 0 0;\n",
              "      width: 32px;\n",
              "    }\n",
              "\n",
              "    .colab-df-convert:hover {\n",
              "      background-color: #E2EBFA;\n",
              "      box-shadow: 0px 1px 2px rgba(60, 64, 67, 0.3), 0px 1px 3px 1px rgba(60, 64, 67, 0.15);\n",
              "      fill: #174EA6;\n",
              "    }\n",
              "\n",
              "    [theme=dark] .colab-df-convert {\n",
              "      background-color: #3B4455;\n",
              "      fill: #D2E3FC;\n",
              "    }\n",
              "\n",
              "    [theme=dark] .colab-df-convert:hover {\n",
              "      background-color: #434B5C;\n",
              "      box-shadow: 0px 1px 3px 1px rgba(0, 0, 0, 0.15);\n",
              "      filter: drop-shadow(0px 1px 2px rgba(0, 0, 0, 0.3));\n",
              "      fill: #FFFFFF;\n",
              "    }\n",
              "  </style>\n",
              "\n",
              "      <script>\n",
              "        const buttonEl =\n",
              "          document.querySelector('#df-5027a501-4be5-469a-9f15-c261c3f6826c button.colab-df-convert');\n",
              "        buttonEl.style.display =\n",
              "          google.colab.kernel.accessAllowed ? 'block' : 'none';\n",
              "\n",
              "        async function convertToInteractive(key) {\n",
              "          const element = document.querySelector('#df-5027a501-4be5-469a-9f15-c261c3f6826c');\n",
              "          const dataTable =\n",
              "            await google.colab.kernel.invokeFunction('convertToInteractive',\n",
              "                                                     [key], {});\n",
              "          if (!dataTable) return;\n",
              "\n",
              "          const docLinkHtml = 'Like what you see? Visit the ' +\n",
              "            '<a target=\"_blank\" href=https://colab.research.google.com/notebooks/data_table.ipynb>data table notebook</a>'\n",
              "            + ' to learn more about interactive tables.';\n",
              "          element.innerHTML = '';\n",
              "          dataTable['output_type'] = 'display_data';\n",
              "          await google.colab.output.renderOutput(dataTable, element);\n",
              "          const docLink = document.createElement('div');\n",
              "          docLink.innerHTML = docLinkHtml;\n",
              "          element.appendChild(docLink);\n",
              "        }\n",
              "      </script>\n",
              "    </div>\n",
              "  </div>\n",
              "  "
            ]
          },
          "metadata": {},
          "execution_count": 97
        }
      ]
    },
    {
      "cell_type": "code",
      "source": [
        "len(train)"
      ],
      "metadata": {
        "colab": {
          "base_uri": "https://localhost:8080/"
        },
        "id": "30ayLSvOLWro",
        "outputId": "fa5482cb-0263-4e64-f2c4-04f0bd38e998"
      },
      "execution_count": 90,
      "outputs": [
        {
          "output_type": "execute_result",
          "data": {
            "text/plain": [
              "12"
            ]
          },
          "metadata": {},
          "execution_count": 90
        }
      ]
    },
    {
      "cell_type": "code",
      "source": [
        "test"
      ],
      "metadata": {
        "colab": {
          "base_uri": "https://localhost:8080/",
          "height": 580
        },
        "id": "A2VhxCfaLYuW",
        "outputId": "79a539d8-4989-42c6-a5b3-50707c8b689a"
      },
      "execution_count": 98,
      "outputs": [
        {
          "output_type": "execute_result",
          "data": {
            "text/plain": [
              "     Label                                               Text\n",
              "0        2  sir i didnt receive refund for failed train bo...\n",
              "1        2  enter your yatra ref number interaction type o...\n",
              "2        2  dear team kindly activate my rail id for erp c...\n",
              "3        2  enter your yatra ref number yatrarefno interac...\n",
              "4        2  reply re ya cdxdfgvcjvchgfjhnb domestic flight...\n",
              "..     ...                                                ...\n",
              "207      1  dear sender thanks for your e mail i am on lea...\n",
              "208      1  fya on am from tejaswini molli stl tech to sup...\n",
              "209      1  fya on am from tejaswini molli stl tech to sup...\n",
              "210      1  fya on am from tejaswini molli stl tech to sup...\n",
              "211      1  thanks for the reply hope my tickets stay conf...\n",
              "\n",
              "[206 rows x 2 columns]"
            ],
            "text/html": [
              "\n",
              "  <div id=\"df-26fa7031-f91b-4437-a2ab-cab5e218cbaf\">\n",
              "    <div class=\"colab-df-container\">\n",
              "      <div>\n",
              "<style scoped>\n",
              "    .dataframe tbody tr th:only-of-type {\n",
              "        vertical-align: middle;\n",
              "    }\n",
              "\n",
              "    .dataframe tbody tr th {\n",
              "        vertical-align: top;\n",
              "    }\n",
              "\n",
              "    .dataframe thead th {\n",
              "        text-align: right;\n",
              "    }\n",
              "</style>\n",
              "<table border=\"1\" class=\"dataframe\">\n",
              "  <thead>\n",
              "    <tr style=\"text-align: right;\">\n",
              "      <th></th>\n",
              "      <th>Label</th>\n",
              "      <th>Text</th>\n",
              "    </tr>\n",
              "  </thead>\n",
              "  <tbody>\n",
              "    <tr>\n",
              "      <th>0</th>\n",
              "      <td>2</td>\n",
              "      <td>sir i didnt receive refund for failed train bo...</td>\n",
              "    </tr>\n",
              "    <tr>\n",
              "      <th>1</th>\n",
              "      <td>2</td>\n",
              "      <td>enter your yatra ref number interaction type o...</td>\n",
              "    </tr>\n",
              "    <tr>\n",
              "      <th>2</th>\n",
              "      <td>2</td>\n",
              "      <td>dear team kindly activate my rail id for erp c...</td>\n",
              "    </tr>\n",
              "    <tr>\n",
              "      <th>3</th>\n",
              "      <td>2</td>\n",
              "      <td>enter your yatra ref number yatrarefno interac...</td>\n",
              "    </tr>\n",
              "    <tr>\n",
              "      <th>4</th>\n",
              "      <td>2</td>\n",
              "      <td>reply re ya cdxdfgvcjvchgfjhnb domestic flight...</td>\n",
              "    </tr>\n",
              "    <tr>\n",
              "      <th>...</th>\n",
              "      <td>...</td>\n",
              "      <td>...</td>\n",
              "    </tr>\n",
              "    <tr>\n",
              "      <th>207</th>\n",
              "      <td>1</td>\n",
              "      <td>dear sender thanks for your e mail i am on lea...</td>\n",
              "    </tr>\n",
              "    <tr>\n",
              "      <th>208</th>\n",
              "      <td>1</td>\n",
              "      <td>fya on am from tejaswini molli stl tech to sup...</td>\n",
              "    </tr>\n",
              "    <tr>\n",
              "      <th>209</th>\n",
              "      <td>1</td>\n",
              "      <td>fya on am from tejaswini molli stl tech to sup...</td>\n",
              "    </tr>\n",
              "    <tr>\n",
              "      <th>210</th>\n",
              "      <td>1</td>\n",
              "      <td>fya on am from tejaswini molli stl tech to sup...</td>\n",
              "    </tr>\n",
              "    <tr>\n",
              "      <th>211</th>\n",
              "      <td>1</td>\n",
              "      <td>thanks for the reply hope my tickets stay conf...</td>\n",
              "    </tr>\n",
              "  </tbody>\n",
              "</table>\n",
              "<p>206 rows × 2 columns</p>\n",
              "</div>\n",
              "      <button class=\"colab-df-convert\" onclick=\"convertToInteractive('df-26fa7031-f91b-4437-a2ab-cab5e218cbaf')\"\n",
              "              title=\"Convert this dataframe to an interactive table.\"\n",
              "              style=\"display:none;\">\n",
              "        \n",
              "  <svg xmlns=\"http://www.w3.org/2000/svg\" height=\"24px\"viewBox=\"0 0 24 24\"\n",
              "       width=\"24px\">\n",
              "    <path d=\"M0 0h24v24H0V0z\" fill=\"none\"/>\n",
              "    <path d=\"M18.56 5.44l.94 2.06.94-2.06 2.06-.94-2.06-.94-.94-2.06-.94 2.06-2.06.94zm-11 1L8.5 8.5l.94-2.06 2.06-.94-2.06-.94L8.5 2.5l-.94 2.06-2.06.94zm10 10l.94 2.06.94-2.06 2.06-.94-2.06-.94-.94-2.06-.94 2.06-2.06.94z\"/><path d=\"M17.41 7.96l-1.37-1.37c-.4-.4-.92-.59-1.43-.59-.52 0-1.04.2-1.43.59L10.3 9.45l-7.72 7.72c-.78.78-.78 2.05 0 2.83L4 21.41c.39.39.9.59 1.41.59.51 0 1.02-.2 1.41-.59l7.78-7.78 2.81-2.81c.8-.78.8-2.07 0-2.86zM5.41 20L4 18.59l7.72-7.72 1.47 1.35L5.41 20z\"/>\n",
              "  </svg>\n",
              "      </button>\n",
              "      \n",
              "  <style>\n",
              "    .colab-df-container {\n",
              "      display:flex;\n",
              "      flex-wrap:wrap;\n",
              "      gap: 12px;\n",
              "    }\n",
              "\n",
              "    .colab-df-convert {\n",
              "      background-color: #E8F0FE;\n",
              "      border: none;\n",
              "      border-radius: 50%;\n",
              "      cursor: pointer;\n",
              "      display: none;\n",
              "      fill: #1967D2;\n",
              "      height: 32px;\n",
              "      padding: 0 0 0 0;\n",
              "      width: 32px;\n",
              "    }\n",
              "\n",
              "    .colab-df-convert:hover {\n",
              "      background-color: #E2EBFA;\n",
              "      box-shadow: 0px 1px 2px rgba(60, 64, 67, 0.3), 0px 1px 3px 1px rgba(60, 64, 67, 0.15);\n",
              "      fill: #174EA6;\n",
              "    }\n",
              "\n",
              "    [theme=dark] .colab-df-convert {\n",
              "      background-color: #3B4455;\n",
              "      fill: #D2E3FC;\n",
              "    }\n",
              "\n",
              "    [theme=dark] .colab-df-convert:hover {\n",
              "      background-color: #434B5C;\n",
              "      box-shadow: 0px 1px 3px 1px rgba(0, 0, 0, 0.15);\n",
              "      filter: drop-shadow(0px 1px 2px rgba(0, 0, 0, 0.3));\n",
              "      fill: #FFFFFF;\n",
              "    }\n",
              "  </style>\n",
              "\n",
              "      <script>\n",
              "        const buttonEl =\n",
              "          document.querySelector('#df-26fa7031-f91b-4437-a2ab-cab5e218cbaf button.colab-df-convert');\n",
              "        buttonEl.style.display =\n",
              "          google.colab.kernel.accessAllowed ? 'block' : 'none';\n",
              "\n",
              "        async function convertToInteractive(key) {\n",
              "          const element = document.querySelector('#df-26fa7031-f91b-4437-a2ab-cab5e218cbaf');\n",
              "          const dataTable =\n",
              "            await google.colab.kernel.invokeFunction('convertToInteractive',\n",
              "                                                     [key], {});\n",
              "          if (!dataTable) return;\n",
              "\n",
              "          const docLinkHtml = 'Like what you see? Visit the ' +\n",
              "            '<a target=\"_blank\" href=https://colab.research.google.com/notebooks/data_table.ipynb>data table notebook</a>'\n",
              "            + ' to learn more about interactive tables.';\n",
              "          element.innerHTML = '';\n",
              "          dataTable['output_type'] = 'display_data';\n",
              "          await google.colab.output.renderOutput(dataTable, element);\n",
              "          const docLink = document.createElement('div');\n",
              "          docLink.innerHTML = docLinkHtml;\n",
              "          element.appendChild(docLink);\n",
              "        }\n",
              "      </script>\n",
              "    </div>\n",
              "  </div>\n",
              "  "
            ]
          },
          "metadata": {},
          "execution_count": 98
        }
      ]
    },
    {
      "cell_type": "markdown",
      "source": [
        "#### 10.  Transform sentence"
      ],
      "metadata": {
        "id": "HegFngdrUY6C"
      }
    },
    {
      "cell_type": "code",
      "source": [
        "# Text processing (split, find token id, get embedidng)\n",
        "def transform_sentence(text, model):\n",
        "\n",
        "    \"\"\"\n",
        "    Mean embedding vector\n",
        "    \"\"\"\n",
        "\n",
        "    def preprocess_text(raw_text, model=model):\n",
        "\n",
        "        \"\"\" \n",
        "        Excluding unknown words and get corresponding token\n",
        "        \"\"\"\n",
        "\n",
        "        raw_text = raw_text.split()\n",
        "\n",
        "        return list(filter(lambda x: x in model.vocab, raw_text))\n",
        "\n",
        "    tokens = preprocess_text(text)\n",
        "\n",
        "    if not tokens:\n",
        "        return np.zeros(model.vector_size)\n",
        "\n",
        "    text_vector = np.mean(model[tokens], axis=0)\n",
        "\n",
        "    return np.array(text_vector)"
      ],
      "metadata": {
        "id": "V7LqZb6gGNDR"
      },
      "execution_count": 99,
      "outputs": []
    },
    {
      "cell_type": "markdown",
      "source": [
        "#### 11. Compute the mean of train and test"
      ],
      "metadata": {
        "id": "0Sm2idIRUhai"
      }
    },
    {
      "cell_type": "code",
      "source": [
        "X_train_mean = X_train.apply(lambda x : transform_sentence(x, model2))\n",
        "X_test_mean = X_test.apply(lambda x : transform_sentence(x, model2))\n",
        "\n",
        "X_train_mean = pd.DataFrame(X_train_mean)['Text'].apply(pd.Series)\n",
        "X_test_mean = pd.DataFrame(X_test_mean)['Text'].apply(pd.Series)"
      ],
      "metadata": {
        "id": "fe_xMeymG-Yk"
      },
      "execution_count": 100,
      "outputs": []
    },
    {
      "cell_type": "markdown",
      "source": [
        "#### 12. Compute the consine similarity"
      ],
      "metadata": {
        "id": "cp1xfQncUoOC"
      }
    },
    {
      "cell_type": "code",
      "source": [
        "# Use cosine similarity to find closest class\n",
        "def classify_txt(txt, mean_embedding):\n",
        "\n",
        "    best_dist = 1\n",
        "    best_label = -1\n",
        "\n",
        "    for cl in range(num_classes):\n",
        "\n",
        "        dist = spatial.distance.cosine(transform_sentence(txt, model2), mean_embedding[cl])\n",
        "\n",
        "        if dist < best_dist :\n",
        "            best_dist = dist\n",
        "            best_label = cl+1\n",
        "\n",
        "    return best_label"
      ],
      "metadata": {
        "id": "U4QqgDRjG-bW"
      },
      "execution_count": 101,
      "outputs": []
    },
    {
      "cell_type": "markdown",
      "source": [
        "#### 13. Return the score\n"
      ],
      "metadata": {
        "id": "ROokIDTFUuFX"
      }
    },
    {
      "cell_type": "code",
      "source": [
        "# Process text and predict on the test set\n",
        "def return_score(sample_size, num_classes):\n",
        "\n",
        "    train, test = gen_sample(sample_size, num_classes)\n",
        "\n",
        "    X_train = train['Text']\n",
        "    y_train = train['Label'].values\n",
        "    X_test = test['Text']\n",
        "    y_test = test['Label'].values\n",
        "\n",
        "    X_train_mean = X_train.apply(lambda x : transform_sentence(x, model2))\n",
        "    X_test_mean = X_test.apply(lambda x : transform_sentence(x, model2))\n",
        "\n",
        "    X_train_mean = pd.DataFrame(X_train_mean)['Text'].apply(pd.Series)\n",
        "    X_test_mean = pd.DataFrame(X_test_mean)['Text'].apply(pd.Series)\n",
        "\n",
        "    mean_embedding = {}\n",
        "    for cl in range(num_classes):\n",
        "        print('cl: {} '.format(str(cl)) )\n",
        "        mean_embedding[cl] = np.mean((X_train_mean[y_train == cl + 1]), axis=0)\n",
        "\n",
        "    y_pred = [classify_txt(t, mean_embedding) for t in test['Text'].values]\n",
        "\n",
        "    return accuracy_score(y_pred, y_test)"
      ],
      "metadata": {
        "id": "J1nt5_8JG-eV"
      },
      "execution_count": 109,
      "outputs": []
    },
    {
      "cell_type": "markdown",
      "source": [
        "#### 14. Compute the accuracy\n"
      ],
      "metadata": {
        "id": "BHJlgCljU6O_"
      }
    },
    {
      "cell_type": "code",
      "source": [
        "# all_accuracy = {2:[],3:[],4:[],5:[],6:[],7:[]}\n",
        "all_accuracy = {2:[],3:[],4:[], 5:[]}\n",
        "\n",
        "for num_samples in range(1,69):\n",
        "    for num_cl in range(2, 5):\n",
        "        #print(\"num_cl : {}\".format(str(num_cl)))\n",
        "        all_accuracy[num_cl].append(return_score(num_samples,num_cl))"
      ],
      "metadata": {
        "id": "abIzh8hLHK21"
      },
      "execution_count": 134,
      "outputs": []
    },
    {
      "cell_type": "markdown",
      "source": [
        "#### 15. Plot the performance based on number of classes and samples per class"
      ],
      "metadata": {
        "id": "xuZYnQIGVIPU"
      }
    },
    {
      "cell_type": "code",
      "source": [
        "plt.figure(figsize=(12,8))\n",
        "\n",
        "plt.plot(all_accuracy[2], label=\"2 classes\")\n",
        "plt.plot(all_accuracy[3], label=\"3 classes\")\n",
        "plt.plot(all_accuracy[4], label=\"4 classes\")\n",
        "plt.plot(all_accuracy[5], label=\"5 classes\")\n",
        "\n",
        "plt.axvline(4, c='black', alpha=0.5)\n",
        "plt.title(\"Accuracy depending on the number of samples and classes\")\n",
        "plt.legend()\n",
        "plt.show()\n"
      ],
      "metadata": {
        "colab": {
          "base_uri": "https://localhost:8080/",
          "height": 499
        },
        "id": "nNWAMPUwHK6K",
        "outputId": "e2b704e6-eccb-4b57-a183-70a587859463"
      },
      "execution_count": 135,
      "outputs": [
        {
          "output_type": "display_data",
          "data": {
            "text/plain": [
              "<Figure size 864x576 with 1 Axes>"
            ],
            "image/png": "[encoded data removed]"
          },
          "metadata": {
            "needs_background": "light"
          }
        }
      ]
    },
    {
      "cell_type": "markdown",
      "source": [
        "#### 16. Apply the KNN"
      ],
      "metadata": {
        "id": "XT7p7G3wVXMp"
      }
    },
    {
      "cell_type": "code",
      "source": [
        "from sklearn.neighbors import KNeighborsClassifier\n",
        "\n",
        "def return_score_knn(sample_size, num_classes):\n",
        "\n",
        "    train, test = gen_sample(sample_size, num_classes)\n",
        "\n",
        "    X_train = train['Text']\n",
        "    y_train = train['Label'].values\n",
        "    X_test = test['Text']\n",
        "    y_test = test['Label'].values\n",
        "\n",
        "    X_train_mean = X_train.apply(lambda x : transform_sentence(x, model2))\n",
        "    X_test_mean = X_test.apply(lambda x : transform_sentence(x, model2))\n",
        "\n",
        "    X_train_mean = pd.DataFrame(X_train_mean)['Text'].apply(pd.Series)\n",
        "    X_test_mean = pd.DataFrame(X_test_mean)['Text'].apply(pd.Series)\n",
        "\n",
        "    clf = KNeighborsClassifier(n_neighbors=sample_size, p=2)\n",
        "    clf.fit(X_train_mean, y_train)\n",
        "\n",
        "    y_pred = clf.predict(X_test_mean)\n",
        "\n",
        "    return accuracy_score(y_pred, y_test)"
      ],
      "metadata": {
        "id": "sMQxX6zoBgHx"
      },
      "execution_count": 136,
      "outputs": []
    },
    {
      "cell_type": "markdown",
      "source": [
        "#### 17. Again compute the accuracy for KNN"
      ],
      "metadata": {
        "id": "lsHsFkylVcet"
      }
    },
    {
      "cell_type": "code",
      "source": [
        "# all_accuracy = {2:[],3:[],4:[],5:[],6:[],7:[]}\n",
        "all_accuracy_knn = {2:[],3:[],4:[], 5:[]}\n",
        "\n",
        "for num_samples in range(1,70):\n",
        "    for num_cl in range(2, 5):\n",
        "        #print(\"num_cl : {}\".format(str(num_cl)))\n",
        "        all_accuracy_knn[num_cl].append(return_score_knn(num_samples,num_cl))"
      ],
      "metadata": {
        "id": "LZgfpTSoBgKS"
      },
      "execution_count": 138,
      "outputs": []
    },
    {
      "cell_type": "markdown",
      "source": [
        "#### 18. Plot the performance of no of classes vs no of samples per class"
      ],
      "metadata": {
        "id": "D1Oa11esVi_Q"
      }
    },
    {
      "cell_type": "code",
      "source": [
        "plt.figure(figsize=(12,8))\n",
        "plt.plot(all_accuracy_knn[2], label=\"2 classes\")\n",
        "plt.plot(all_accuracy_knn[3], label=\"3 classes\")\n",
        "plt.plot(all_accuracy_knn[4], label=\"4 classes\")\n",
        "plt.plot(all_accuracy_knn[5], label=\"5 classes\")\n",
        "# plt.plot(all_accuracy[6], label=\"6 classes\")\n",
        "plt.axvline(4, c='black', alpha=0.5)\n",
        "plt.title(\"Accuracy depending on the number of samples and classes\")\n",
        "plt.legend()\n",
        "plt.show()\n"
      ],
      "metadata": {
        "colab": {
          "base_uri": "https://localhost:8080/",
          "height": 499
        },
        "id": "CuPTX23eBgMA",
        "outputId": "70bf87bb-205c-470f-b051-533bc097c27d"
      },
      "execution_count": 139,
      "outputs": [
        {
          "output_type": "display_data",
          "data": {
            "text/plain": [
              "<Figure size 864x576 with 1 Axes>"
            ],
            "image/png": "[encoded data removed]"
          },
          "metadata": {
            "needs_background": "light"
          }
        }
      ]
    }
  ]
}